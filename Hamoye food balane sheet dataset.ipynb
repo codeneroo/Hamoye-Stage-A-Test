{
 "cells": [
  {
   "cell_type": "code",
   "execution_count": 1,
   "id": "psychological-drive",
   "metadata": {},
   "outputs": [],
   "source": [
    "import matplotlib.pyplot as plt\n",
    "import pandas as pd\n",
    "import seaborn as sns\n",
    "import numpy as np"
   ]
  },
  {
   "cell_type": "code",
   "execution_count": 2,
   "id": "hairy-backup",
   "metadata": {},
   "outputs": [],
   "source": [
    "df = pd.read_csv(r\"\\Users\\kandy\\Downloads\\FoodBalanceSheets_E_Africa_NOFLAG (2).csv\")"
   ]
  },
  {
   "cell_type": "code",
   "execution_count": 3,
   "id": "circular-tonight",
   "metadata": {},
   "outputs": [
    {
     "data": {
      "text/html": [
       "<div>\n",
       "<style scoped>\n",
       "    .dataframe tbody tr th:only-of-type {\n",
       "        vertical-align: middle;\n",
       "    }\n",
       "\n",
       "    .dataframe tbody tr th {\n",
       "        vertical-align: top;\n",
       "    }\n",
       "\n",
       "    .dataframe thead th {\n",
       "        text-align: right;\n",
       "    }\n",
       "</style>\n",
       "<table border=\"1\" class=\"dataframe\">\n",
       "  <thead>\n",
       "    <tr style=\"text-align: right;\">\n",
       "      <th></th>\n",
       "      <th>Area Code</th>\n",
       "      <th>Area</th>\n",
       "      <th>Item Code</th>\n",
       "      <th>Item</th>\n",
       "      <th>Element Code</th>\n",
       "      <th>Element</th>\n",
       "      <th>Unit</th>\n",
       "      <th>Y2014</th>\n",
       "      <th>Y2015</th>\n",
       "      <th>Y2016</th>\n",
       "      <th>Y2017</th>\n",
       "      <th>Y2018</th>\n",
       "    </tr>\n",
       "  </thead>\n",
       "  <tbody>\n",
       "    <tr>\n",
       "      <th>0</th>\n",
       "      <td>4</td>\n",
       "      <td>Algeria</td>\n",
       "      <td>2501</td>\n",
       "      <td>Population</td>\n",
       "      <td>511</td>\n",
       "      <td>Total Population - Both sexes</td>\n",
       "      <td>1000 persons</td>\n",
       "      <td>38924.00</td>\n",
       "      <td>39728.00</td>\n",
       "      <td>40551.00</td>\n",
       "      <td>41389.00</td>\n",
       "      <td>42228.00</td>\n",
       "    </tr>\n",
       "    <tr>\n",
       "      <th>1</th>\n",
       "      <td>4</td>\n",
       "      <td>Algeria</td>\n",
       "      <td>2501</td>\n",
       "      <td>Population</td>\n",
       "      <td>5301</td>\n",
       "      <td>Domestic supply quantity</td>\n",
       "      <td>1000 tonnes</td>\n",
       "      <td>0.00</td>\n",
       "      <td>0.00</td>\n",
       "      <td>0.00</td>\n",
       "      <td>0.00</td>\n",
       "      <td>0.00</td>\n",
       "    </tr>\n",
       "    <tr>\n",
       "      <th>2</th>\n",
       "      <td>4</td>\n",
       "      <td>Algeria</td>\n",
       "      <td>2901</td>\n",
       "      <td>Grand Total</td>\n",
       "      <td>664</td>\n",
       "      <td>Food supply (kcal/capita/day)</td>\n",
       "      <td>kcal/capita/day</td>\n",
       "      <td>3377.00</td>\n",
       "      <td>3379.00</td>\n",
       "      <td>3372.00</td>\n",
       "      <td>3341.00</td>\n",
       "      <td>3322.00</td>\n",
       "    </tr>\n",
       "    <tr>\n",
       "      <th>3</th>\n",
       "      <td>4</td>\n",
       "      <td>Algeria</td>\n",
       "      <td>2901</td>\n",
       "      <td>Grand Total</td>\n",
       "      <td>674</td>\n",
       "      <td>Protein supply quantity (g/capita/day)</td>\n",
       "      <td>g/capita/day</td>\n",
       "      <td>94.90</td>\n",
       "      <td>94.35</td>\n",
       "      <td>94.72</td>\n",
       "      <td>92.82</td>\n",
       "      <td>91.83</td>\n",
       "    </tr>\n",
       "    <tr>\n",
       "      <th>4</th>\n",
       "      <td>4</td>\n",
       "      <td>Algeria</td>\n",
       "      <td>2901</td>\n",
       "      <td>Grand Total</td>\n",
       "      <td>684</td>\n",
       "      <td>Fat supply quantity (g/capita/day)</td>\n",
       "      <td>g/capita/day</td>\n",
       "      <td>80.06</td>\n",
       "      <td>79.36</td>\n",
       "      <td>77.40</td>\n",
       "      <td>80.19</td>\n",
       "      <td>77.28</td>\n",
       "    </tr>\n",
       "  </tbody>\n",
       "</table>\n",
       "</div>"
      ],
      "text/plain": [
       "   Area Code     Area  Item Code         Item  Element Code  \\\n",
       "0          4  Algeria       2501   Population           511   \n",
       "1          4  Algeria       2501   Population          5301   \n",
       "2          4  Algeria       2901  Grand Total           664   \n",
       "3          4  Algeria       2901  Grand Total           674   \n",
       "4          4  Algeria       2901  Grand Total           684   \n",
       "\n",
       "                                  Element             Unit     Y2014  \\\n",
       "0           Total Population - Both sexes     1000 persons  38924.00   \n",
       "1                Domestic supply quantity      1000 tonnes      0.00   \n",
       "2           Food supply (kcal/capita/day)  kcal/capita/day   3377.00   \n",
       "3  Protein supply quantity (g/capita/day)     g/capita/day     94.90   \n",
       "4      Fat supply quantity (g/capita/day)     g/capita/day     80.06   \n",
       "\n",
       "      Y2015     Y2016     Y2017     Y2018  \n",
       "0  39728.00  40551.00  41389.00  42228.00  \n",
       "1      0.00      0.00      0.00      0.00  \n",
       "2   3379.00   3372.00   3341.00   3322.00  \n",
       "3     94.35     94.72     92.82     91.83  \n",
       "4     79.36     77.40     80.19     77.28  "
      ]
     },
     "execution_count": 3,
     "metadata": {},
     "output_type": "execute_result"
    }
   ],
   "source": [
    "df.head()"
   ]
  },
  {
   "cell_type": "markdown",
   "id": "binding-median",
   "metadata": {},
   "source": [
    "QUESTION 11"
   ]
  },
  {
   "cell_type": "code",
   "execution_count": 19,
   "id": "foster-reynolds",
   "metadata": {},
   "outputs": [
    {
     "data": {
      "text/plain": [
       "Item\n",
       "Alcohol, Non-Food        2403.00\n",
       "Alcoholic Beverages    102410.11\n",
       "Animal Products         11935.65\n",
       "Animal fats            209460.54\n",
       "Apples and products      9499.23\n",
       "                         ...    \n",
       "Vegetables, Other      155038.96\n",
       "Vegetal Products       107145.19\n",
       "Wheat and products     232670.13\n",
       "Wine                     4497.36\n",
       "Yams                   200396.96\n",
       "Name: Y2014, Length: 119, dtype: float64"
      ]
     },
     "execution_count": 19,
     "metadata": {},
     "output_type": "execute_result"
    }
   ],
   "source": [
    "df.groupby([\"Item\"])[\"Y2014\"].sum()"
   ]
  },
  {
   "cell_type": "code",
   "execution_count": 20,
   "id": "broad-night",
   "metadata": {},
   "outputs": [
    {
     "data": {
      "text/plain": [
       "Item\n",
       "Alcohol, Non-Food        2348.00\n",
       "Alcoholic Beverages     95581.06\n",
       "Animal Products         11547.65\n",
       "Animal fats            269617.53\n",
       "Apples and products     10198.90\n",
       "                         ...    \n",
       "Vegetables, Other      157752.59\n",
       "Vegetal Products       107655.20\n",
       "Wheat and products     240047.62\n",
       "Wine                     4178.02\n",
       "Yams                   229174.59\n",
       "Name: Y2017, Length: 119, dtype: float64"
      ]
     },
     "execution_count": 20,
     "metadata": {},
     "output_type": "execute_result"
    }
   ],
   "source": [
    "df.groupby([\"Item\"])[\"Y2017\"].sum()"
   ]
  },
  {
   "cell_type": "markdown",
   "id": "outdoor-palace",
   "metadata": {},
   "source": [
    "QUESTION 12"
   ]
  },
  {
   "cell_type": "code",
   "execution_count": 4,
   "id": "young-generation",
   "metadata": {},
   "outputs": [
    {
     "data": {
      "text/plain": [
       "135.23596649549626"
      ]
     },
     "execution_count": 4,
     "metadata": {},
     "output_type": "execute_result"
    }
   ],
   "source": [
    "df[\"Y2015\"].mean()"
   ]
  },
  {
   "cell_type": "code",
   "execution_count": 5,
   "id": "considerable-uniform",
   "metadata": {},
   "outputs": [
    {
     "data": {
      "text/plain": [
       "1603.4039839425013"
      ]
     },
     "execution_count": 5,
     "metadata": {},
     "output_type": "execute_result"
    }
   ],
   "source": [
    "df[\"Y2015\"].std()"
   ]
  },
  {
   "cell_type": "markdown",
   "id": "precise-reference",
   "metadata": {},
   "source": [
    "QUESTION 13"
   ]
  },
  {
   "cell_type": "code",
   "execution_count": 29,
   "id": "swiss-mouth",
   "metadata": {},
   "outputs": [
    {
     "data": {
      "text/plain": [
       "1535"
      ]
     },
     "execution_count": 29,
     "metadata": {},
     "output_type": "execute_result"
    }
   ],
   "source": [
    "df[\"Y2016\"].isna().sum()"
   ]
  },
  {
   "cell_type": "code",
   "execution_count": 34,
   "id": "atmospheric-platform",
   "metadata": {},
   "outputs": [],
   "source": [
    "df1 = (df['Y2016'].isnull().sum()/len(df['Y2016']))*100"
   ]
  },
  {
   "cell_type": "code",
   "execution_count": 36,
   "id": "superb-concrete",
   "metadata": {},
   "outputs": [
    {
     "data": {
      "text/plain": [
       "2.5187470259094566"
      ]
     },
     "execution_count": 36,
     "metadata": {},
     "output_type": "execute_result"
    }
   ],
   "source": [
    "df1"
   ]
  },
  {
   "cell_type": "code",
   "execution_count": 35,
   "id": "employed-football",
   "metadata": {},
   "outputs": [
    {
     "data": {
      "text/plain": [
       "2.52"
      ]
     },
     "execution_count": 35,
     "metadata": {},
     "output_type": "execute_result"
    }
   ],
   "source": [
    "round(df1,2)"
   ]
  },
  {
   "cell_type": "markdown",
   "id": "controlled-jones",
   "metadata": {},
   "source": [
    "QUESTION 15"
   ]
  },
  {
   "cell_type": "code",
   "execution_count": 45,
   "id": "adjacent-indian",
   "metadata": {},
   "outputs": [
    {
     "data": {
      "text/html": [
       "<div>\n",
       "<style scoped>\n",
       "    .dataframe tbody tr th:only-of-type {\n",
       "        vertical-align: middle;\n",
       "    }\n",
       "\n",
       "    .dataframe tbody tr th {\n",
       "        vertical-align: top;\n",
       "    }\n",
       "\n",
       "    .dataframe thead th {\n",
       "        text-align: right;\n",
       "    }\n",
       "</style>\n",
       "<table border=\"1\" class=\"dataframe\">\n",
       "  <thead>\n",
       "    <tr style=\"text-align: right;\">\n",
       "      <th></th>\n",
       "      <th>Y2014</th>\n",
       "      <th>Y2016</th>\n",
       "      <th>Y2017</th>\n",
       "      <th>Y2015</th>\n",
       "    </tr>\n",
       "    <tr>\n",
       "      <th>Element</th>\n",
       "      <th></th>\n",
       "      <th></th>\n",
       "      <th></th>\n",
       "      <th></th>\n",
       "    </tr>\n",
       "  </thead>\n",
       "  <tbody>\n",
       "    <tr>\n",
       "      <th>Domestic supply quantity</th>\n",
       "      <td>1996716.35</td>\n",
       "      <td>2044842.70</td>\n",
       "      <td>2088198.10</td>\n",
       "      <td>2021493.55</td>\n",
       "    </tr>\n",
       "    <tr>\n",
       "      <th>Export Quantity</th>\n",
       "      <td>150020.64</td>\n",
       "      <td>151920.46</td>\n",
       "      <td>182338.80</td>\n",
       "      <td>157614.47</td>\n",
       "    </tr>\n",
       "    <tr>\n",
       "      <th>Fat supply quantity (g/capita/day)</th>\n",
       "      <td>10225.56</td>\n",
       "      <td>10102.77</td>\n",
       "      <td>10253.84</td>\n",
       "      <td>10235.74</td>\n",
       "    </tr>\n",
       "    <tr>\n",
       "      <th>Feed</th>\n",
       "      <td>216927.89</td>\n",
       "      <td>228958.65</td>\n",
       "      <td>223705.68</td>\n",
       "      <td>225050.22</td>\n",
       "    </tr>\n",
       "    <tr>\n",
       "      <th>Food</th>\n",
       "      <td>1212332.49</td>\n",
       "      <td>1247022.17</td>\n",
       "      <td>1258888.28</td>\n",
       "      <td>1232361.10</td>\n",
       "    </tr>\n",
       "    <tr>\n",
       "      <th>Food supply (kcal/capita/day)</th>\n",
       "      <td>454257.00</td>\n",
       "      <td>451810.00</td>\n",
       "      <td>454681.00</td>\n",
       "      <td>453383.00</td>\n",
       "    </tr>\n",
       "    <tr>\n",
       "      <th>Food supply quantity (kg/capita/yr)</th>\n",
       "      <td>49650.63</td>\n",
       "      <td>48985.28</td>\n",
       "      <td>48690.04</td>\n",
       "      <td>49345.13</td>\n",
       "    </tr>\n",
       "    <tr>\n",
       "      <th>Import Quantity</th>\n",
       "      <td>274144.48</td>\n",
       "      <td>286582.78</td>\n",
       "      <td>294559.09</td>\n",
       "      <td>267018.46</td>\n",
       "    </tr>\n",
       "    <tr>\n",
       "      <th>Losses</th>\n",
       "      <td>153223.00</td>\n",
       "      <td>157787.00</td>\n",
       "      <td>160614.00</td>\n",
       "      <td>155439.00</td>\n",
       "    </tr>\n",
       "    <tr>\n",
       "      <th>Other uses (non-food)</th>\n",
       "      <td>78718.13</td>\n",
       "      <td>69563.68</td>\n",
       "      <td>91645.97</td>\n",
       "      <td>66254.41</td>\n",
       "    </tr>\n",
       "    <tr>\n",
       "      <th>Processing</th>\n",
       "      <td>282923.00</td>\n",
       "      <td>280631.00</td>\n",
       "      <td>292836.00</td>\n",
       "      <td>287929.00</td>\n",
       "    </tr>\n",
       "    <tr>\n",
       "      <th>Production</th>\n",
       "      <td>1931287.75</td>\n",
       "      <td>1943537.15</td>\n",
       "      <td>2030056.89</td>\n",
       "      <td>1947019.39</td>\n",
       "    </tr>\n",
       "    <tr>\n",
       "      <th>Protein supply quantity (g/capita/day)</th>\n",
       "      <td>11836.46</td>\n",
       "      <td>11779.69</td>\n",
       "      <td>11842.45</td>\n",
       "      <td>11833.95</td>\n",
       "    </tr>\n",
       "    <tr>\n",
       "      <th>Residuals</th>\n",
       "      <td>30149.00</td>\n",
       "      <td>37224.00</td>\n",
       "      <td>35500.00</td>\n",
       "      <td>30045.00</td>\n",
       "    </tr>\n",
       "    <tr>\n",
       "      <th>Seed</th>\n",
       "      <td>21922.92</td>\n",
       "      <td>23389.20</td>\n",
       "      <td>24870.14</td>\n",
       "      <td>23976.82</td>\n",
       "    </tr>\n",
       "    <tr>\n",
       "      <th>Stock Variation</th>\n",
       "      <td>58749.83</td>\n",
       "      <td>33140.12</td>\n",
       "      <td>54316.91</td>\n",
       "      <td>34910.99</td>\n",
       "    </tr>\n",
       "    <tr>\n",
       "      <th>Total Population - Both sexes</th>\n",
       "      <td>1031585.00</td>\n",
       "      <td>1085107.00</td>\n",
       "      <td>1112641.00</td>\n",
       "      <td>1058081.00</td>\n",
       "    </tr>\n",
       "    <tr>\n",
       "      <th>Tourist consumption</th>\n",
       "      <td>416.00</td>\n",
       "      <td>89.00</td>\n",
       "      <td>91.00</td>\n",
       "      <td>349.00</td>\n",
       "    </tr>\n",
       "  </tbody>\n",
       "</table>\n",
       "</div>"
      ],
      "text/plain": [
       "                                             Y2014       Y2016       Y2017  \\\n",
       "Element                                                                      \n",
       "Domestic supply quantity                1996716.35  2044842.70  2088198.10   \n",
       "Export Quantity                          150020.64   151920.46   182338.80   \n",
       "Fat supply quantity (g/capita/day)        10225.56    10102.77    10253.84   \n",
       "Feed                                     216927.89   228958.65   223705.68   \n",
       "Food                                    1212332.49  1247022.17  1258888.28   \n",
       "Food supply (kcal/capita/day)            454257.00   451810.00   454681.00   \n",
       "Food supply quantity (kg/capita/yr)       49650.63    48985.28    48690.04   \n",
       "Import Quantity                          274144.48   286582.78   294559.09   \n",
       "Losses                                   153223.00   157787.00   160614.00   \n",
       "Other uses (non-food)                     78718.13    69563.68    91645.97   \n",
       "Processing                               282923.00   280631.00   292836.00   \n",
       "Production                              1931287.75  1943537.15  2030056.89   \n",
       "Protein supply quantity (g/capita/day)    11836.46    11779.69    11842.45   \n",
       "Residuals                                 30149.00    37224.00    35500.00   \n",
       "Seed                                      21922.92    23389.20    24870.14   \n",
       "Stock Variation                           58749.83    33140.12    54316.91   \n",
       "Total Population - Both sexes           1031585.00  1085107.00  1112641.00   \n",
       "Tourist consumption                         416.00       89.00       91.00   \n",
       "\n",
       "                                             Y2015  \n",
       "Element                                             \n",
       "Domestic supply quantity                2021493.55  \n",
       "Export Quantity                          157614.47  \n",
       "Fat supply quantity (g/capita/day)        10235.74  \n",
       "Feed                                     225050.22  \n",
       "Food                                    1232361.10  \n",
       "Food supply (kcal/capita/day)            453383.00  \n",
       "Food supply quantity (kg/capita/yr)       49345.13  \n",
       "Import Quantity                          267018.46  \n",
       "Losses                                   155439.00  \n",
       "Other uses (non-food)                     66254.41  \n",
       "Processing                               287929.00  \n",
       "Production                              1947019.39  \n",
       "Protein supply quantity (g/capita/day)    11833.95  \n",
       "Residuals                                 30045.00  \n",
       "Seed                                      23976.82  \n",
       "Stock Variation                           34910.99  \n",
       "Total Population - Both sexes           1058081.00  \n",
       "Tourist consumption                         349.00  "
      ]
     },
     "execution_count": 45,
     "metadata": {},
     "output_type": "execute_result"
    }
   ],
   "source": [
    "df.groupby([\"Element\"])[[\"Y2014\",\"Y2016\",\"Y2017\",\"Y2015\"]].sum()"
   ]
  },
  {
   "cell_type": "markdown",
   "id": "floppy-memory",
   "metadata": {},
   "source": [
    "QUESTION 16"
   ]
  },
  {
   "cell_type": "code",
   "execution_count": 26,
   "id": "lightweight-generator",
   "metadata": {},
   "outputs": [
    {
     "data": {
      "text/plain": [
       "Element\n",
       "Domestic supply quantity                  1996716.35\n",
       "Export Quantity                            150020.64\n",
       "Fat supply quantity (g/capita/day)          10225.56\n",
       "Feed                                       216927.89\n",
       "Food                                      1212332.49\n",
       "Food supply (kcal/capita/day)              454257.00\n",
       "Food supply quantity (kg/capita/yr)         49650.63\n",
       "Import Quantity                            274144.48\n",
       "Losses                                     153223.00\n",
       "Other uses (non-food)                       78718.13\n",
       "Processing                                 282923.00\n",
       "Production                                1931287.75\n",
       "Protein supply quantity (g/capita/day)      11836.46\n",
       "Residuals                                   30149.00\n",
       "Seed                                        21922.92\n",
       "Stock Variation                             58749.83\n",
       "Total Population - Both sexes             1031585.00\n",
       "Tourist consumption                           416.00\n",
       "Name: Y2014, dtype: float64"
      ]
     },
     "execution_count": 26,
     "metadata": {},
     "output_type": "execute_result"
    }
   ],
   "source": [
    "df.groupby([\"Element\"])[\"Y2014\"].sum()"
   ]
  },
  {
   "cell_type": "markdown",
   "id": "retired-ground",
   "metadata": {},
   "source": [
    "QUESTION 17"
   ]
  },
  {
   "cell_type": "code",
   "execution_count": 27,
   "id": "operational-stereo",
   "metadata": {},
   "outputs": [
    {
     "data": {
      "text/plain": [
       "Element\n",
       "Domestic supply quantity                  2161192.10\n",
       "Export Quantity                            181594.80\n",
       "Fat supply quantity (g/capita/day)          10258.69\n",
       "Feed                                       233489.68\n",
       "Food                                      1303841.28\n",
       "Food supply (kcal/capita/day)              455261.00\n",
       "Food supply quantity (kg/capita/yr)         49056.85\n",
       "Import Quantity                            287997.09\n",
       "Losses                                     163902.00\n",
       "Other uses (non-food)                       91300.97\n",
       "Processing                                 308429.00\n",
       "Production                                2075072.89\n",
       "Protein supply quantity (g/capita/day)      11833.56\n",
       "Residuals                                   34864.00\n",
       "Seed                                        25263.14\n",
       "Stock Variation                             20577.91\n",
       "Total Population - Both sexes             1140605.00\n",
       "Tourist consumption                            90.00\n",
       "Name: Y2018, dtype: float64"
      ]
     },
     "execution_count": 27,
     "metadata": {},
     "output_type": "execute_result"
    }
   ],
   "source": [
    "df.groupby([\"Element\"])[\"Y2018\"].sum()"
   ]
  },
  {
   "cell_type": "markdown",
   "id": "compact-bacon",
   "metadata": {},
   "source": [
    "QUESTION 18"
   ]
  },
  {
   "cell_type": "code",
   "execution_count": 28,
   "id": "satisfied-swiss",
   "metadata": {},
   "outputs": [
    {
     "data": {
      "text/plain": [
       "Element\n",
       "Domestic supply quantity                  2161192.10\n",
       "Export Quantity                            181594.80\n",
       "Fat supply quantity (g/capita/day)          10258.69\n",
       "Feed                                       233489.68\n",
       "Food                                      1303841.28\n",
       "Food supply (kcal/capita/day)              455261.00\n",
       "Food supply quantity (kg/capita/yr)         49056.85\n",
       "Import Quantity                            287997.09\n",
       "Losses                                     163902.00\n",
       "Other uses (non-food)                       91300.97\n",
       "Processing                                 308429.00\n",
       "Production                                2075072.89\n",
       "Protein supply quantity (g/capita/day)      11833.56\n",
       "Residuals                                   34864.00\n",
       "Seed                                        25263.14\n",
       "Stock Variation                             20577.91\n",
       "Total Population - Both sexes             1140605.00\n",
       "Tourist consumption                            90.00\n",
       "Name: Y2018, dtype: float64"
      ]
     },
     "execution_count": 28,
     "metadata": {},
     "output_type": "execute_result"
    }
   ],
   "source": [
    "df.groupby([\"Element\"])[\"Y2018\"].sum()"
   ]
  },
  {
   "cell_type": "markdown",
   "id": "desirable-shipping",
   "metadata": {},
   "source": [
    "QUESTION 19"
   ]
  },
  {
   "cell_type": "code",
   "execution_count": 6,
   "id": "backed-prototype",
   "metadata": {},
   "outputs": [],
   "source": [
    "df1= df[df[\"Area\"] == \"Algeria\"]"
   ]
  },
  {
   "cell_type": "code",
   "execution_count": 7,
   "id": "reverse-knitting",
   "metadata": {},
   "outputs": [
    {
     "data": {
      "text/plain": [
       "Element\n",
       "Domestic supply quantity                  90023.42\n",
       "Export Quantity                             811.54\n",
       "Fat supply quantity (g/capita/day)          309.09\n",
       "Feed                                      10668.00\n",
       "Food                                      63736.33\n",
       "Food supply (kcal/capita/day)             13288.00\n",
       "Food supply quantity (kg/capita/yr)        1509.28\n",
       "Import Quantity                           36238.29\n",
       "Losses                                     7708.00\n",
       "Other uses (non-food)                      3970.08\n",
       "Processing                                 2479.00\n",
       "Production                                60766.67\n",
       "Protein supply quantity (g/capita/day)      367.28\n",
       "Residuals                                   630.00\n",
       "Seed                                        825.00\n",
       "Stock Variation                            6172.00\n",
       "Total Population - Both sexes             42228.00\n",
       "Name: Y2018, dtype: float64"
      ]
     },
     "execution_count": 7,
     "metadata": {},
     "output_type": "execute_result"
    }
   ],
   "source": [
    "df1.groupby([\"Element\"])[\"Y2018\"].sum()"
   ]
  },
  {
   "cell_type": "markdown",
   "id": "welsh-dance",
   "metadata": {},
   "source": [
    "QUESTION 20"
   ]
  },
  {
   "cell_type": "code",
   "execution_count": 14,
   "id": "spectacular-closure",
   "metadata": {},
   "outputs": [
    {
     "data": {
      "text/plain": [
       "49"
      ]
     },
     "execution_count": 14,
     "metadata": {},
     "output_type": "execute_result"
    }
   ],
   "source": [
    "df[\"Area\"].nunique()"
   ]
  },
  {
   "cell_type": "code",
   "execution_count": null,
   "id": "classified-butler",
   "metadata": {},
   "outputs": [],
   "source": []
  }
 ],
 "metadata": {
  "kernelspec": {
   "display_name": "Python 3",
   "language": "python",
   "name": "python3"
  },
  "language_info": {
   "codemirror_mode": {
    "name": "ipython",
    "version": 3
   },
   "file_extension": ".py",
   "mimetype": "text/x-python",
   "name": "python",
   "nbconvert_exporter": "python",
   "pygments_lexer": "ipython3",
   "version": "3.9.1"
  }
 },
 "nbformat": 4,
 "nbformat_minor": 5
}
